{
 "cells": [
  {
   "cell_type": "code",
   "execution_count": 13,
   "metadata": {},
   "outputs": [
    {
     "name": "stdout",
     "output_type": "stream",
     "text": [
      "Je vous entends! Vous avez dit: Bonjour!\n"
     ]
    }
   ],
   "source": [
    "bot_template = \"BOT : {0}\"\n",
    "user_template = \"USER : {0}\"\n",
    "\n",
    "# Définir une fonction qui répond à un message de l'utilisateur : respond\n",
    "def respond(message):\n",
    "    # Concaténer le message de l'utilisateur à une réponse standard du bot\n",
    "    bot_message = \"Je vous entends! Vous avez dit: \" + message\n",
    "    # Retourner le résultat\n",
    "    return bot_message\n",
    "\n",
    "# Tester la fonction\n",
    "print(respond(\"Bonjour!\"))"
   ]
  },
  {
   "cell_type": "code",
   "execution_count": 14,
   "metadata": {},
   "outputs": [
    {
     "name": "stdout",
     "output_type": "stream",
     "text": [
      "UTILISATEUR : hello\n",
      "BOT : Je vous entends! Vous avez dit: hello\n"
     ]
    }
   ],
   "source": [
    "# Créer des templates\n",
    "template_bot = \"BOT : {0}\"\n",
    "template_utilisateur = \"UTILISATEUR : {0}\"\n",
    "\n",
    "# Définir une fonction qui envoie un message au bot : envoyer_message\n",
    "def send_message(message):\n",
    "    # Afficher le template_utilisateur incluant le message_utilisateur\n",
    "    print(template_utilisateur.format(message))\n",
    "    # Obtenir la réponse du bot au message\n",
    "    response = respond(message)\n",
    "    # Afficher le template_bot incluant la réponse du bot.\n",
    "    print(bot_template.format(response))\n",
    "\n",
    "# Envoyer un message au bot\n",
    "send_message(\"hello\")\n"
   ]
  },
  {
   "cell_type": "code",
   "execution_count": 15,
   "metadata": {},
   "outputs": [
    {
     "name": "stdout",
     "output_type": "stream",
     "text": [
      "USER : Comment t'appelles-tu?\n",
      "BOT : je m'appelle Greg\n",
      "USER : Quel temps fait-il aujourd'hui?\n",
      "BOT : le temps est nuageux\n",
      "USER : Comment vas-tu?\n",
      "BOT : message d'erreur\n"
     ]
    }
   ],
   "source": [
    "# Variables définies\n",
    "bot_template = \"BOT : {0}\"\n",
    "user_template = \"USER : {0}\"\n",
    "\n",
    "# Fonction déjà définie qui envoie un message au bot\n",
    "def send_message(message):\n",
    "    # Print the user message\n",
    "    print(user_template.format(message))\n",
    "    # Get the bot's response to the message\n",
    "    response = respond(message)\n",
    "    # Print the bot response\n",
    "    print(bot_template.format(response))\n",
    "\n",
    "# Définition des variables\n",
    "name = \"Greg\"\n",
    "weather = \"nuageux\"\n",
    "\n",
    "# Dictionnaire avec les réponses prédéfinies\n",
    "responses = {\n",
    "    \"Comment t'appelles-tu?\": \"je m'appelle {0}\".format(name),\n",
    "    \"Quel temps fait-il aujourd'hui?\": \"le temps est {0}\".format(weather),\n",
    "    \"erreur\": \"message d'erreur\"\n",
    "}\n",
    "\n",
    "# Fonction respond qui retourne la réponse en fonction du message\n",
    "def respond(message):\n",
    "    # Si le message est dans les réponses, renvoyer la réponse correspondante\n",
    "    if message in responses:\n",
    "        return responses[message]\n",
    "    # Sinon, renvoyer le message par défaut\n",
    "    return responses[\"erreur\"]\n",
    "\n",
    "# Tester en envoyant des messages\n",
    "send_message(\"Comment t'appelles-tu?\")\n",
    "send_message(\"Quel temps fait-il aujourd'hui?\")\n",
    "send_message(\"Comment vas-tu?\")\n"
   ]
  },
  {
   "cell_type": "code",
   "execution_count": 16,
   "metadata": {},
   "outputs": [
    {
     "name": "stdout",
     "output_type": "stream",
     "text": [
      "USER : comment t'appelles-tu?\n",
      "BOT : je m'appelle Greg\n",
      "USER : quel temps fait-il aujourd'hui?\n",
      "BOT : c'est nuageux aujourd'hui\n",
      "USER : comment vas-tu?\n",
      "BOT : message d'erreur\n"
     ]
    }
   ],
   "source": [
    "# Importer le module random\n",
    "import random\n",
    "\n",
    "# Définir les variables\n",
    "name = \"Greg\"\n",
    "weather = \"nuageux\"\n",
    "\n",
    "# Dictionnaire avec des réponses multiples pour chaque message\n",
    "responses = {\n",
    "  \"comment t'appelles-tu?\": [\n",
    "      \"je m'appelle {0}\".format(name),\n",
    "      \"on me surnomme {0}\".format(name),\n",
    "      \"je suis {0}\".format(name)\n",
    "   ],\n",
    "  \"quel temps fait-il aujourd'hui?\": [\n",
    "      \"le temps est {0}\".format(weather),\n",
    "      \"c'est {0} aujourd'hui\".format(weather)\n",
    "    ],\n",
    "  \"erreur\": [\"message d'erreur\"]\n",
    "}\n",
    "\n",
    "# Utiliser random.choice() pour choisir une réponse\n",
    "def respond(message):\n",
    "    if message in responses:\n",
    "        return random.choice(responses[message])\n",
    "    else:\n",
    "        return random.choice(responses[\"erreur\"])\n",
    "\n",
    "# Fonction pour envoyer un message au bot\n",
    "def send_message(message):\n",
    "    print(\"USER : {0}\".format(message))\n",
    "    response = respond(message)\n",
    "    print(\"BOT : {0}\".format(response))\n",
    "\n",
    "# Tester le bot avec des messages\n",
    "send_message(\"comment t'appelles-tu?\")\n",
    "send_message(\"quel temps fait-il aujourd'hui?\")\n",
    "send_message(\"comment vas-tu?\")\n"
   ]
  },
  {
   "cell_type": "code",
   "execution_count": 17,
   "metadata": {},
   "outputs": [
    {
     "name": "stdout",
     "output_type": "stream",
     "text": [
      "UTILISATEUR : Quel est ton nom?\n",
      "BOT : mon nom est Greg\n",
      "UTILISATEUR : Quel temps fait-il aujourd'hui?\n",
      "BOT : il fait nuageux aujourd'hui\n",
      "UTILISATEUR : Comment vas-tu?\n",
      "BOT : message d'erreur\n"
     ]
    }
   ],
   "source": [
    "# Importer le module random\n",
    "import random\n",
    "\n",
    "# Définir les variables\n",
    "nom = \"Greg\"\n",
    "temps = \"nuageux\"\n",
    "\n",
    "# Définir un dictionnaire contenant une liste de réponses pour chaque message\n",
    "reponses = {\n",
    "    \"Quel est ton nom?\": [\n",
    "        \"mon nom est {0}\".format(nom),\n",
    "        \"on m'appelle {0}\".format(nom),\n",
    "        \"je me fais appeler {0}\".format(nom)\n",
    "    ],\n",
    "    \"Quel temps fait-il aujourd'hui?\": [\n",
    "        \"le temps est {0}\".format(temps),\n",
    "        \"il fait {0} aujourd'hui\".format(temps)\n",
    "    ],\n",
    "    \"erreur\": [\"message d'erreur\"],\n",
    "}\n",
    "\n",
    "# Utiliser random.choice() pour choisir une réponse correspondante\n",
    "def respond(message):\n",
    "    # Vérifier si le message existe dans le dictionnaire de réponses\n",
    "    if message in reponses:\n",
    "        # Choisir une réponse au hasard pour le message\n",
    "        bot_message = random.choice(reponses[message])\n",
    "    else:\n",
    "        # Choisir une réponse par défaut au hasard\n",
    "        bot_message = random.choice(reponses[\"erreur\"])\n",
    "    return bot_message\n",
    "\n",
    "# Fonction pour simuler l'envoi d'un message\n",
    "def send_message(message):\n",
    "    print(f\"UTILISATEUR : {message}\")\n",
    "    response = respond(message)\n",
    "    print(f\"BOT : {response}\")\n",
    "\n",
    "# Tester quelques messages\n",
    "send_message(\"Quel est ton nom?\")\n",
    "send_message(\"Quel temps fait-il aujourd'hui?\")\n",
    "send_message(\"Comment vas-tu?\")\n"
   ]
  },
  {
   "cell_type": "code",
   "execution_count": 18,
   "metadata": {},
   "outputs": [
    {
     "name": "stdout",
     "output_type": "stream",
     "text": [
      "UTILISATEUR : Quel temps fait-il aujourd'hui?\n",
      "BOT : Bonne question !\n",
      "UTILISATEUR : Quel est ton nom?\n",
      "BOT : Je ne suis pas sûr d'avoir compris, peux-tu reformuler ?\n",
      "UTILISATEUR : J'adore les chatbots\n",
      "BOT : Cela semble être une bonne idée.\n",
      "UTILISATEUR : Les chatbots sont géniaux\n",
      "BOT : Je suis d'accord avec toi.\n"
     ]
    }
   ],
   "source": [
    "import random\n",
    "\n",
    "# Définir des réponses pour les questions et les affirmations\n",
    "responses = {\n",
    "    \"question\": [\n",
    "        \"Je ne suis pas sûr d'avoir compris, peux-tu reformuler ?\",\n",
    "        \"Laisse-moi y réfléchir.\",\n",
    "        \"Bonne question !\"\n",
    "    ],\n",
    "    \"statement\": [\n",
    "        \"Intéressant !\",\n",
    "        \"Je suis d'accord avec toi.\",\n",
    "        \"Cela semble être une bonne idée.\"\n",
    "    ]\n",
    "}\n",
    "\n",
    "# Fonction pour répondre aux messages\n",
    "def respond(message):\n",
    "    # Vérifier si le message se termine par un point d'interrogation\n",
    "    if message.endswith(\"?\"):\n",
    "        # Retourner une réponse aléatoire pour une question\n",
    "        return random.choice(responses[\"question\"])\n",
    "    # Sinon, retourner une réponse aléatoire pour une affirmation\n",
    "    return random.choice(responses[\"statement\"])\n",
    "\n",
    "# Fonction pour simuler l'envoi d'un message\n",
    "def send_message(message):\n",
    "    print(f\"UTILISATEUR : {message}\")\n",
    "    response = respond(message)\n",
    "    print(f\"BOT : {response}\")\n",
    "\n",
    "# Envoyer des messages qui se terminent par un point d'interrogation\n",
    "send_message(\"Quel temps fait-il aujourd'hui?\")\n",
    "send_message(\"Quel est ton nom?\")\n",
    "\n",
    "# Envoyer des messages qui ne se terminent pas par un point d'interrogation\n",
    "send_message(\"J'adore les chatbots\")\n",
    "send_message(\"Les chatbots sont géniaux\")\n"
   ]
  },
  {
   "cell_type": "code",
   "execution_count": 19,
   "metadata": {},
   "outputs": [
    {
     "name": "stdout",
     "output_type": "stream",
     "text": [
      "Penses-tu vraiment qu'il est probable que tu dors ?\n"
     ]
    }
   ],
   "source": [
    "import re\n",
    "import random\n",
    "\n",
    "# Définir le dictionnaire rules avec les modèles et réponses possibles\n",
    "rules = {\n",
    "    \"penses-tu (.*)\": [\"Pourquoi penses-tu {0} ?\", \"Qu'est-ce qui te fait penser {0} ?\"],\n",
    "    \"tu te souviens (.*)\": [\"Comment pourrais-je oublier {0} ?\", \"Comment oublier {0} ?\"],\n",
    "    \"je veux (.*)\": [\"Pourquoi veux-tu {0} ?\", \"Que signifierait vouloir {0} pour toi ?\"],\n",
    "    \"si (.*)\": [\"Penses-tu vraiment qu'il est probable que {0} ?\", \"Et si {0} ?\"]\n",
    "}\n",
    "\n",
    "# Fonction pour ajuster les pronoms et la grammaire du dialogue\n",
    "def adjust_pronouns(phrase):\n",
    "    # Remplacer \"ton\", \"ta\", \"tes\" par \"mon\", \"ma\", \"mes\" et ajuster les prépositions\n",
    "    phrase = phrase.replace(\"ton\", \"mon\").replace(\"ta\", \"ma\").replace(\"tes\", \"mes\").replace(\"je\", \"tu\")\n",
    "    # Supprimer la préposition \"de\" si elle est mal placée\n",
    "    if phrase.startswith(\"de \"):\n",
    "        phrase = phrase[3:]  # Enlever \"de \" au début de la phrase\n",
    "    return phrase\n",
    "\n",
    "# Définir la fonction match_rule()\n",
    "def match_rule(rules, message):\n",
    "    response, phrase = \"default\", None\n",
    "    \n",
    "    # Itérer sur le dictionnaire rules\n",
    "    for pattern, responses in rules.items():\n",
    "        # Créer un objet de correspondance\n",
    "        match = re.search(pattern, message, re.IGNORECASE)\n",
    "        if match is not None:\n",
    "            # Choisir une réponse aléatoire\n",
    "            response = random.choice(responses)\n",
    "            if '{0}' in response:\n",
    "                # Extraire la phrase capturée dans le message\n",
    "                phrase = match.group(1)\n",
    "                # Ajuster la phrase pour les pronoms et la grammaire\n",
    "                phrase = adjust_pronouns(phrase)\n",
    "    \n",
    "    # Retourner la réponse formatée avec la phrase extraite, en vérifiant les doubles \"??\"\n",
    "    if response.endswith(\"?\") and phrase.endswith(\"?\"):\n",
    "        phrase = phrase[:-1]  # Supprimer le point d'interrogation à la fin de la phrase\n",
    "    return response.format(phrase)\n",
    "\n",
    "# Tester la fonction match_rule()\n",
    "print(match_rule(rules, \"si je dors?\"))\n"
   ]
  },
  {
   "cell_type": "code",
   "execution_count": 20,
   "metadata": {},
   "outputs": [
    {
     "name": "stdout",
     "output_type": "stream",
     "text": [
      "ton dernier anniversaire était génial\n",
      "mon voyage en floride ?\n",
      "tu as mon propre château\n"
     ]
    }
   ],
   "source": [
    "# Définir replace_pronouns()\n",
    "def replace_pronouns(message):\n",
    "\n",
    "    message = message.lower()\n",
    "    if 'moi' in message:\n",
    "        # Remplacer 'moi' par 'toi'\n",
    "        return re.sub('moi', 'toi', message)\n",
    "    if 'mon' in message:\n",
    "        # Remplacer 'mon' par 'ton'\n",
    "        return re.sub('mon', 'ton', message)\n",
    "    if 'ton' in message:\n",
    "        # Remplacer 'ton' par 'mon'\n",
    "        return re.sub('ton', 'mon', message)\n",
    "    if 'toi' in message:\n",
    "        # Remplacer 'toi' par 'moi'\n",
    "        return re.sub('toi', 'moi', message)\n",
    "\n",
    "    return message\n",
    "\n",
    "print(replace_pronouns(\"mon dernier anniversaire était génial\"))\n",
    "print(replace_pronouns(\"ton voyage en Floride ?\"))\n",
    "print(replace_pronouns(\"tu as ton propre château\"))\n"
   ]
  },
  {
   "cell_type": "code",
   "execution_count": 21,
   "metadata": {},
   "outputs": [
    {
     "name": "stdout",
     "output_type": "stream",
     "text": [
      "UTILISATEUR : te souviens-tu de ton dernier anniversaire ?\n",
      "BOT : Te souviens-tu souvent de de mon dernier anniversaire  ?\n",
      "UTILISATEUR : penses-tu que les humains devraient s'inquiéter de l'IA ?\n",
      "BOT : Qu'est-ce qui te fait penser que les humains devraient s'inquiéter de l'IA  ?\n",
      "UTILISATEUR : je veux un ami robot\n",
      "BOT : Que signifierait avoir un ami robot pour toi ?\n",
      "UTILISATEUR : et si tu pouvais être tout ce que tu voulais ?\n",
      "BOT : Et si je pouvais être tout ce que je voulais  ?\n"
     ]
    }
   ],
   "source": [
    "import re\n",
    "import random\n",
    "\n",
    "# Définir le dictionnaire rules avec les modèles et réponses possibles\n",
    "rules = {\n",
    "    \"penses-tu (.*)\": [\"Pourquoi penses-tu {0} ?\", \"Qu'est-ce qui te fait penser {0} ?\"],\n",
    "    \"te souviens[- ]?tu (.*)\": [\"Comment pourrais-je oublier {0} ?\", \"Te souviens-tu souvent de {0} ?\"],\n",
    "    \"je veux (.*)\": [\"Pourquoi veux-tu {0} ?\", \"Que signifierait avoir {0} pour toi ?\"],\n",
    "    \"si (.*)\": [\"Penses-tu vraiment {0} ?\", \"Et si {0} ?\"]\n",
    "}\n",
    "\n",
    "# Fonction pour ajuster les pronoms et la grammaire du dialogue\n",
    "def replace_pronouns(phrase):\n",
    "    phrase = phrase.replace(\"ton\", \"mon\").replace(\"ta\", \"ma\").replace(\"tes\", \"mes\")\n",
    "    phrase = phrase.replace(\"moi\", \"toi\").replace(\"toi\", \"moi\")\n",
    "    phrase = phrase.replace(\"je\", \"tu\").replace(\"tu\", \"je\")\n",
    "    return phrase\n",
    "\n",
    "# Définir la fonction match_rule()\n",
    "def match_rule(rules, message):\n",
    "    response, phrase = None, None\n",
    "    \n",
    "    # Itérer sur le dictionnaire rules\n",
    "    for pattern, responses in rules.items():\n",
    "        # Créer un objet de correspondance\n",
    "        match = re.search(pattern, message, re.IGNORECASE)\n",
    "        if match:\n",
    "            # Choisir une réponse aléatoire\n",
    "            response = random.choice(responses)\n",
    "            if '{0}' in response:\n",
    "                # Extraire la phrase capturée dans le message\n",
    "                phrase = match.group(1).strip()\n",
    "                # Ajuster la phrase pour les pronoms\n",
    "                phrase = replace_pronouns(phrase)\n",
    "                # Supprimer un point d'interrogation s'il y en a un dans la phrase capturée\n",
    "                if phrase.endswith(\"?\"):\n",
    "                    phrase = phrase[:-1]\n",
    "    # Retourner la réponse et la phrase\n",
    "    return response, phrase\n",
    "\n",
    "# Définir la fonction respond()\n",
    "def respond(message):\n",
    "    # Appeler match_rule\n",
    "    response, phrase = match_rule(rules, message)\n",
    "    \n",
    "    # Si une phrase est trouvée, formater la réponse\n",
    "    if '{0}' in response and phrase:\n",
    "        response = response.format(phrase)\n",
    "    \n",
    "    # Supprimer les doubles points d'interrogation si présents\n",
    "    response = response.replace(\"??\", \"?\")\n",
    "    return response\n",
    "\n",
    "# Définir la fonction send_message() pour simuler un dialogue\n",
    "def send_message(message):\n",
    "    print(f\"UTILISATEUR : {message}\")\n",
    "    response = respond(message)\n",
    "    print(f\"BOT : {response}\")\n",
    "\n",
    "# Tester avec des exemples\n",
    "send_message(\"te souviens-tu de ton dernier anniversaire ?\")\n",
    "send_message(\"penses-tu que les humains devraient s'inquiéter de l'IA ?\")\n",
    "send_message(\"je veux un ami robot\")\n",
    "send_message(\"et si tu pouvais être tout ce que tu voulais ?\")\n"
   ]
  },
  {
   "cell_type": "code",
   "execution_count": 22,
   "metadata": {},
   "outputs": [
    {
     "name": "stdout",
     "output_type": "stream",
     "text": [
      "{'greet': re.compile('hello|hi|hey'), 'goodbye': re.compile('bye|farewell'), 'thankyou': re.compile('thank|thx')}\n"
     ]
    }
   ],
   "source": [
    "import re\n",
    "\n",
    "# Dictionnaire des mots-clés\n",
    "keywords = {\n",
    "    'greet': ['hello', 'hi', 'hey'],\n",
    "    'goodbye': ['bye', 'farewell'],\n",
    "    'thankyou': ['thank', 'thx']\n",
    "}\n",
    "\n",
    "# Définir un dictionnaire pour stocker les modèles (patterns)\n",
    "patterns = {}\n",
    "\n",
    "# Parcourir le dictionnaire de mots-clés\n",
    "for intent, keys in keywords.items():\n",
    "    # Créer des expressions régulières et les compiler en objets pattern\n",
    "    patterns[intent] = re.compile('|'.join(keys))\n",
    "\n",
    "# Afficher les modèles\n",
    "print(patterns)\n"
   ]
  },
  {
   "cell_type": "code",
   "execution_count": 23,
   "metadata": {},
   "outputs": [
    {
     "name": "stdout",
     "output_type": "stream",
     "text": [
      "UTILISATEUR : hello!\n",
      "BOT : Hello! How can I help you?\n",
      "UTILISATEUR : bye byeee\n",
      "BOT : Goodbye! Have a nice day!\n",
      "UTILISATEUR : thanks very much!\n",
      "BOT : You're welcome!\n"
     ]
    }
   ],
   "source": [
    "import re\n",
    "\n",
    "# Dictionnaire des mots-clés\n",
    "keywords = {\n",
    "    'greet': ['hello', 'hi', 'hey'],\n",
    "    'goodbye': ['bye', 'farewell'],\n",
    "    'thankyou': ['thank', 'thx']\n",
    "}\n",
    "\n",
    "# Dictionnaire des réponses\n",
    "responses = {\n",
    "    'greet': \"Hello! How can I help you?\",\n",
    "    'goodbye': \"Goodbye! Have a nice day!\",\n",
    "    'thankyou': \"You're welcome!\",\n",
    "    'default': \"I'm sorry, I don't understand.\"\n",
    "}\n",
    "\n",
    "# Définir un dictionnaire pour stocker les modèles (patterns)\n",
    "patterns = {}\n",
    "\n",
    "# Parcourir le dictionnaire de mots-clés\n",
    "for intent, keys in keywords.items():\n",
    "    # Créer des expressions régulières et les compiler en objets pattern\n",
    "    patterns[intent] = re.compile('|'.join(keys))\n",
    "\n",
    "# Définir une fonction pour trouver l'intention d'un message\n",
    "def match_intent(message):\n",
    "    matched_intent = None\n",
    "    for intent, pattern in patterns.items():\n",
    "        # Vérifier si le modèle apparaît dans le message\n",
    "        if pattern.search(message):\n",
    "            matched_intent = intent\n",
    "    return matched_intent\n",
    "\n",
    "# Définir une fonction de réponse\n",
    "def respond(message):\n",
    "    # Appeler la fonction match_intent\n",
    "    intent = match_intent(message)\n",
    "    # Revenir à la réponse par défaut si nécessaire\n",
    "    key = \"default\"\n",
    "    if intent in responses:\n",
    "        key = intent\n",
    "    return responses[key]\n",
    "\n",
    "# Définir la fonction d'envoi de message\n",
    "def send_message(message):\n",
    "    print(f\"UTILISATEUR : {message}\")\n",
    "    response = respond(message)\n",
    "    print(f\"BOT : {response}\")\n",
    "\n",
    "# Envoyer des messages\n",
    "send_message(\"hello!\")\n",
    "send_message(\"bye byeee\")\n",
    "send_message(\"thanks very much!\")\n"
   ]
  },
  {
   "cell_type": "code",
   "execution_count": 24,
   "metadata": {},
   "outputs": [
    {
     "name": "stdout",
     "output_type": "stream",
     "text": [
      "UTILISATEUR : my name is David Copperfield\n",
      "BOT : Hello, David Copperfield!\n",
      "UTILISATEUR : call me Ishmael\n",
      "BOT : Hello, Ishmael!\n",
      "UTILISATEUR : People call me Cassandra\n",
      "BOT : Hello, People Cassandra!\n"
     ]
    }
   ],
   "source": [
    "# Définir la fonction find_name()\n",
    "def find_name(message):\n",
    "    name = None\n",
    "    # Créer un modèle pour vérifier si les mots-clés apparaissent\n",
    "    name_keyword = re.compile('name|call')\n",
    "    # Créer un modèle pour trouver des mots avec une majuscule\n",
    "    name_pattern = re.compile('[A-Z]{1}[a-z]*')\n",
    "    if name_keyword.search(message):\n",
    "        # Obtenir les mots correspondants dans la chaîne\n",
    "        name_words = name_pattern.findall(message)\n",
    "        if len(name_words) > 0:\n",
    "            # Retourner le nom si les mots-clés sont présents\n",
    "            name = ' '.join(name_words)\n",
    "    return name\n",
    "\n",
    "# Définir la fonction respond()\n",
    "def respond(message):\n",
    "    # Trouver le nom\n",
    "    name = find_name(message)\n",
    "    if name is None:\n",
    "        return \"Hi there!\"\n",
    "    else:\n",
    "        return \"Hello, {0}!\".format(name)\n",
    "\n",
    "# Envoyer des messages\n",
    "send_message(\"my name is David Copperfield\")\n",
    "send_message(\"call me Ishmael\")\n",
    "send_message(\"People call me Cassandra\")\n"
   ]
  },
  {
   "cell_type": "code",
   "execution_count": 25,
   "metadata": {},
   "outputs": [],
   "source": [
    "import pandas as pd\n",
    "data = pd.read_csv('atis_intents.csv')"
   ]
  },
  {
   "cell_type": "code",
   "execution_count": 26,
   "metadata": {},
   "outputs": [
    {
     "data": {
      "text/html": [
       "<div>\n",
       "<style scoped>\n",
       "    .dataframe tbody tr th:only-of-type {\n",
       "        vertical-align: middle;\n",
       "    }\n",
       "\n",
       "    .dataframe tbody tr th {\n",
       "        vertical-align: top;\n",
       "    }\n",
       "\n",
       "    .dataframe thead th {\n",
       "        text-align: right;\n",
       "    }\n",
       "</style>\n",
       "<table border=\"1\" class=\"dataframe\">\n",
       "  <thead>\n",
       "    <tr style=\"text-align: right;\">\n",
       "      <th></th>\n",
       "      <th>atis_flight</th>\n",
       "      <th>i want to fly from boston at 838 am and arrive in denver at 1110 in the morning</th>\n",
       "    </tr>\n",
       "  </thead>\n",
       "  <tbody>\n",
       "    <tr>\n",
       "      <th>0</th>\n",
       "      <td>atis_flight</td>\n",
       "      <td>what flights are available from pittsburgh to...</td>\n",
       "    </tr>\n",
       "    <tr>\n",
       "      <th>1</th>\n",
       "      <td>atis_flight_time</td>\n",
       "      <td>what is the arrival time in san francisco for...</td>\n",
       "    </tr>\n",
       "    <tr>\n",
       "      <th>2</th>\n",
       "      <td>atis_airfare</td>\n",
       "      <td>cheapest airfare from tacoma to orlando</td>\n",
       "    </tr>\n",
       "    <tr>\n",
       "      <th>3</th>\n",
       "      <td>atis_airfare</td>\n",
       "      <td>round trip fares from pittsburgh to philadelp...</td>\n",
       "    </tr>\n",
       "    <tr>\n",
       "      <th>4</th>\n",
       "      <td>atis_flight</td>\n",
       "      <td>i need a flight tomorrow from columbus to min...</td>\n",
       "    </tr>\n",
       "  </tbody>\n",
       "</table>\n",
       "</div>"
      ],
      "text/plain": [
       "        atis_flight  \\\n",
       "0       atis_flight   \n",
       "1  atis_flight_time   \n",
       "2      atis_airfare   \n",
       "3      atis_airfare   \n",
       "4       atis_flight   \n",
       "\n",
       "   i want to fly from boston at 838 am and arrive in denver at 1110 in the morning  \n",
       "0   what flights are available from pittsburgh to...                                \n",
       "1   what is the arrival time in san francisco for...                                \n",
       "2            cheapest airfare from tacoma to orlando                                \n",
       "3   round trip fares from pittsburgh to philadelp...                                \n",
       "4   i need a flight tomorrow from columbus to min...                                "
      ]
     },
     "execution_count": 26,
     "metadata": {},
     "output_type": "execute_result"
    }
   ],
   "source": [
    "data.head()"
   ]
  },
  {
   "cell_type": "code",
   "execution_count": 27,
   "metadata": {},
   "outputs": [
    {
     "data": {
      "text/plain": [
       "4977"
      ]
     },
     "execution_count": 27,
     "metadata": {},
     "output_type": "execute_result"
    }
   ],
   "source": [
    "# Calculer le nombre total de lignes dans le jeu de données\n",
    "total_rows = data.shape[0]\n",
    "total_rows"
   ]
  },
  {
   "cell_type": "code",
   "execution_count": 28,
   "metadata": {},
   "outputs": [
    {
     "data": {
      "text/plain": [
       "(0     what flights are available from pittsburgh to...\n",
       " 1     what is the arrival time in san francisco for...\n",
       " 2              cheapest airfare from tacoma to orlando\n",
       " 3     round trip fares from pittsburgh to philadelp...\n",
       " 4     i need a flight tomorrow from columbus to min...\n",
       " Name:  i want to fly from boston at 838 am and arrive in denver at 1110 in the morning, dtype: object,\n",
       " 0    12\n",
       " 1    15\n",
       " 2     3\n",
       " 3     3\n",
       " 4    12\n",
       " Name: encoded_intent, dtype: int64)"
      ]
     },
     "execution_count": 28,
     "metadata": {},
     "output_type": "execute_result"
    }
   ],
   "source": [
    "from sklearn.preprocessing import LabelEncoder\n",
    "\n",
    "# Initialisation de l'encodeur pour convertir les intentions en étiquettes entières\n",
    "label_encoder = LabelEncoder()\n",
    "\n",
    "# Encodage des intentions en entiers\n",
    "data['encoded_intent'] = label_encoder.fit_transform(data['atis_flight'])\n",
    "\n",
    "# Création des tableaux X (phrases) et y (étiquettes entières)\n",
    "X = data.iloc[:, 1]  # La colonne contenant les phrases\n",
    "y = data['encoded_intent']  # La colonne contenant les étiquettes encodées\n",
    "\n",
    "# Afficher un aperçu des données transformées (X et y)\n",
    "X.head(), y.head()\n"
   ]
  },
  {
   "cell_type": "code",
   "execution_count": 29,
   "metadata": {},
   "outputs": [
    {
     "name": "stdout",
     "output_type": "stream",
     "text": [
      "Predicted 948 correctly out of 996 test examples\n"
     ]
    }
   ],
   "source": [
    "# Importer les bibliothèques nécessaires\n",
    "from sklearn.svm import SVC\n",
    "from sklearn.feature_extraction.text import TfidfVectorizer\n",
    "from sklearn.model_selection import train_test_split\n",
    "\n",
    "# Diviser les données en ensembles d'entraînement et de test (80% train, 20% test)\n",
    "X_train, X_test, y_train, y_test = train_test_split(X, y, test_size=0.2, random_state=42)\n",
    "\n",
    "# Convertir les phrases en vecteurs numériques en utilisant TfidfVectorizer\n",
    "vectorizer = TfidfVectorizer()\n",
    "\n",
    "# Ajuster et transformer les données d'entraînement\n",
    "X_train_tfidf = vectorizer.fit_transform(X_train)\n",
    "\n",
    "# Transformer les données de test\n",
    "X_test_tfidf = vectorizer.transform(X_test)\n",
    "\n",
    "# Instancier le classificateur SVC avec le paramètre C=1\n",
    "clf = SVC(C=1)\n",
    "\n",
    "# Ajuster le classificateur aux données vectorisées\n",
    "clf.fit(X_train_tfidf, y_train)\n",
    "\n",
    "# Prédire les étiquettes pour l'ensemble de test\n",
    "y_pred = clf.predict(X_test_tfidf)\n",
    "\n",
    "# Compter le nombre de prédictions correctes\n",
    "n_correct = 0\n",
    "for i in range(len(y_test)):\n",
    "    if y_pred[i] == y_test.iloc[i]:\n",
    "        n_correct += 1\n",
    "\n",
    "# Afficher le résultat\n",
    "print(\"Predicted {0} correctly out of {1} test examples\".format(n_correct, len(y_test)))\n"
   ]
  },
  {
   "cell_type": "code",
   "execution_count": 2,
   "metadata": {},
   "outputs": [
    {
     "name": "stdout",
     "output_type": "stream",
     "text": [
      "[('Jean', 'PER'), ('Google', 'ORG')]\n"
     ]
    }
   ],
   "source": [
    "import spacy\n",
    "\n",
    "# Charger le modèle spaCy pour le français\n",
    "nlp_fr = spacy.load('fr_core_news_md')\n",
    "\n",
    "# Exemple de phrase en français\n",
    "text_fr = \"Jean travaille chez Google en 2020.\"\n",
    "doc_fr = nlp_fr(text_fr)\n",
    "\n",
    "# Afficher les entités reconnues\n",
    "print([(ent.text, ent.label_) for ent in doc_fr.ents])\n"
   ]
  },
  {
   "cell_type": "code",
   "execution_count": 7,
   "metadata": {},
   "outputs": [
    {
     "name": "stdout",
     "output_type": "stream",
     "text": [
      "{'DATE': None, 'ORG': 'Google', 'PERSON': None}\n",
      "{'DATE': None, 'ORG': 'MIT', 'PERSON': None}\n"
     ]
    }
   ],
   "source": [
    "import spacy\n",
    "\n",
    "# Charger le modèle spaCy avec les vecteurs pré-entraînés\n",
    "nlp_fr = spacy.load('fr_core_news_md')\n",
    "\n",
    "# Définir les entités à inclure\n",
    "include_entities = ['DATE', 'ORG', 'PERSON']\n",
    "\n",
    "# Définir la fonction extract_entities()\n",
    "def extract_entities(message):\n",
    "    # Créer un dictionnaire pour stocker les entités\n",
    "    ents = dict.fromkeys(include_entities)\n",
    "    # Créer un document spaCy\n",
    "    doc = nlp_fr(message)  # Utiliser nlp_fr au lieu de nlp\n",
    "    for ent in doc.ents:\n",
    "        if ent.label_ in include_entities:\n",
    "            # Sauvegarder les entités intéressantes\n",
    "            ents[ent.label_] = ent.text\n",
    "    return ents\n",
    "\n",
    "# Tester la fonction\n",
    "print(extract_entities('mon amie Mary a travaillé chez Google en 2010'))\n",
    "print(extract_entities('personnes diplômées du MIT en 1999'))\n"
   ]
  },
  {
   "cell_type": "code",
   "execution_count": 8,
   "metadata": {},
   "outputs": [
    {
     "name": "stdout",
     "output_type": "stream",
     "text": [
      "[('Mary', 'PER'), ('Google', 'ORG')]\n",
      "[('MIT', 'ORG')]\n"
     ]
    }
   ],
   "source": [
    "def extract_entities(message):\n",
    "    # Créer un document spaCy\n",
    "    doc = nlp_fr(message)\n",
    "    # Afficher toutes les entités détectées\n",
    "    return [(ent.text, ent.label_) for ent in doc.ents]\n",
    "\n",
    "# Tester la fonction\n",
    "print(extract_entities('mon amie Mary a travaillé chez Google en 2010'))\n",
    "print(extract_entities('personnes diplômées du MIT en 1999'))\n"
   ]
  },
  {
   "cell_type": "code",
   "execution_count": 9,
   "metadata": {},
   "outputs": [
    {
     "name": "stdout",
     "output_type": "stream",
     "text": [
      "{'DATE': None, 'ORG': 'Google', 'PER': 'Mary'}\n",
      "{'DATE': None, 'ORG': 'MIT', 'PER': None}\n"
     ]
    }
   ],
   "source": [
    "import spacy\n",
    "\n",
    "# Charger le modèle spaCy pour le français\n",
    "nlp_fr = spacy.load('fr_core_news_md')\n",
    "\n",
    "# Définir les entités à inclure (utiliser 'PER' au lieu de 'PERSON' pour les personnes)\n",
    "include_entities = ['DATE', 'ORG', 'PER']\n",
    "\n",
    "# Définir la fonction extract_entities()\n",
    "def extract_entities(message):\n",
    "    # Créer un dictionnaire pour stocker les entités\n",
    "    ents = dict.fromkeys(include_entities)\n",
    "    # Créer un document spaCy\n",
    "    doc = nlp_fr(message)\n",
    "    for ent in doc.ents:\n",
    "        if ent.label_ in include_entities:\n",
    "            # Sauvegarder les entités intéressantes\n",
    "            ents[ent.label_] = ent.text\n",
    "    return ents\n",
    "\n",
    "# Tester la fonction\n",
    "print(extract_entities('mon amie Mary a travaillé chez Google en 2010'))\n",
    "print(extract_entities('personnes diplômées du MIT en 1999'))\n"
   ]
  },
  {
   "cell_type": "code",
   "execution_count": 12,
   "metadata": {},
   "outputs": [
    {
     "name": "stdout",
     "output_type": "stream",
     "text": [
      "Relations de dépendance :\n",
      "achette -> dépend de : achette, relation : ROOT\n",
      "une -> dépend de : veste, relation : det\n",
      "veste -> dépend de : achette, relation : obj\n",
      "rouge -> dépend de : veste, relation : amod\n",
      "et -> dépend de : jean, relation : cc\n",
      "un -> dépend de : jean, relation : det\n",
      "jean -> dépend de : rouge, relation : conj\n",
      "bleu -> dépend de : achette, relation : punct\n",
      "Objet: veste, Couleur: rouge\n",
      "Pas d'objet trouvé pour la couleur : bleu\n"
     ]
    }
   ],
   "source": [
    "import spacy\n",
    "\n",
    "# Charger le modèle linguistique français\n",
    "nlp = spacy.load(\"fr_core_news_md\")  # Utilisation du modèle md pour des vecteurs plus précis\n",
    "\n",
    "# Liste des couleurs et des objets à identifier\n",
    "couleurs = {\"rouge\", \"bleu\", \"vert\", \"jaune\", \"noir\", \"blanc\"}  # Liste simplifiée des couleurs\n",
    "objets = {\"veste\", \"jean\", \"chemise\", \"chaussures\", \"chapeau\", \"robe\"}  # Liste simplifiée des objets\n",
    "\n",
    "# Création du document\n",
    "doc = nlp(\"achette une veste rouge et un jean bleu\")\n",
    "\n",
    "# Fonction pour vérifier si un mot est une couleur\n",
    "def est_couleur(mot):\n",
    "    return mot.text.lower() in couleurs\n",
    "\n",
    "# Fonction pour vérifier si un mot est un objet\n",
    "def est_objet(mot):\n",
    "    return mot.text.lower() in objets\n",
    "\n",
    "# Itérer sur les parents dans l'arbre syntaxique jusqu'à trouver un objet\n",
    "def trouver_objet_parent(mot):\n",
    "    # Itérer sur les ancêtres du mot\n",
    "    for parent in mot.ancestors:\n",
    "        if est_objet(parent):  # Si un parent est un objet\n",
    "            return parent.text\n",
    "    return None\n",
    "\n",
    "# Fonction pour trouver les objets modifiés par une couleur\n",
    "def trouver_objets_colores(doc):\n",
    "    relations = []\n",
    "    for mot in doc:\n",
    "        if est_couleur(mot):  # Si c'est une couleur\n",
    "            objet = trouver_objet_parent(mot)  # Trouver l'objet parent\n",
    "            if objet:\n",
    "                relations.append((objet, mot.text))\n",
    "            else:\n",
    "                relations.append((None, mot.text))\n",
    "    return relations\n",
    "\n",
    "# Affichage des relations objets-couleurs\n",
    "def afficher_relations(relations):\n",
    "    for relation in relations:\n",
    "        objet, couleur = relation\n",
    "        if objet:\n",
    "            print(f\"Objet: {objet}, Couleur: {couleur}\")\n",
    "        else:\n",
    "            print(f\"Pas d'objet trouvé pour la couleur : {couleur}\")\n",
    "\n",
    "# Affichage des tokens et des relations de dépendance\n",
    "print(\"Relations de dépendance :\")\n",
    "for token in doc:\n",
    "    print(f\"{token.text} -> dépend de : {token.head.text}, relation : {token.dep_}\")\n",
    "\n",
    "# Assigner les couleurs aux objets et afficher les résultats\n",
    "relations_colores = trouver_objets_colores(doc)\n",
    "afficher_relations(relations_colores)\n"
   ]
  }
 ],
 "metadata": {
  "kernelspec": {
   "display_name": "nouveau_env",
   "language": "python",
   "name": "python3"
  },
  "language_info": {
   "codemirror_mode": {
    "name": "ipython",
    "version": 3
   },
   "file_extension": ".py",
   "mimetype": "text/x-python",
   "name": "python",
   "nbconvert_exporter": "python",
   "pygments_lexer": "ipython3",
   "version": "3.8.19"
  }
 },
 "nbformat": 4,
 "nbformat_minor": 2
}
